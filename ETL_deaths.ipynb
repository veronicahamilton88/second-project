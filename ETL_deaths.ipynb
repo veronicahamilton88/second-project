{
 "cells": [
  {
   "cell_type": "code",
   "execution_count": 1,
   "metadata": {},
   "outputs": [],
   "source": [
    "import pandas as pd\n",
    "from sqlalchemy import create_engine"
   ]
  },
  {
   "cell_type": "code",
   "execution_count": 2,
   "metadata": {},
   "outputs": [
    {
     "data": {
      "text/html": [
       "<div>\n",
       "<style scoped>\n",
       "    .dataframe tbody tr th:only-of-type {\n",
       "        vertical-align: middle;\n",
       "    }\n",
       "\n",
       "    .dataframe tbody tr th {\n",
       "        vertical-align: top;\n",
       "    }\n",
       "\n",
       "    .dataframe thead th {\n",
       "        text-align: right;\n",
       "    }\n",
       "</style>\n",
       "<table border=\"1\" class=\"dataframe\">\n",
       "  <thead>\n",
       "    <tr style=\"text-align: right;\">\n",
       "      <th></th>\n",
       "      <th>Entity</th>\n",
       "      <th>Code</th>\n",
       "      <th>Year</th>\n",
       "      <th>Air pollution (total) (deaths per 100,000)</th>\n",
       "      <th>Indoor air pollution (deaths per 100,000)</th>\n",
       "      <th>Outdoor particulate matter (deaths per 100,000)</th>\n",
       "      <th>Outdoor ozone pollution (deaths per 100,000)</th>\n",
       "    </tr>\n",
       "  </thead>\n",
       "  <tbody>\n",
       "    <tr>\n",
       "      <th>0</th>\n",
       "      <td>United States</td>\n",
       "      <td>USA</td>\n",
       "      <td>1990</td>\n",
       "      <td>31.195070</td>\n",
       "      <td>0.283396</td>\n",
       "      <td>28.084035</td>\n",
       "      <td>3.281703</td>\n",
       "    </tr>\n",
       "    <tr>\n",
       "      <th>1</th>\n",
       "      <td>United States</td>\n",
       "      <td>USA</td>\n",
       "      <td>1991</td>\n",
       "      <td>30.856114</td>\n",
       "      <td>0.271225</td>\n",
       "      <td>27.700241</td>\n",
       "      <td>3.348164</td>\n",
       "    </tr>\n",
       "    <tr>\n",
       "      <th>2</th>\n",
       "      <td>United States</td>\n",
       "      <td>USA</td>\n",
       "      <td>1992</td>\n",
       "      <td>30.279203</td>\n",
       "      <td>0.257007</td>\n",
       "      <td>27.106771</td>\n",
       "      <td>3.383141</td>\n",
       "    </tr>\n",
       "    <tr>\n",
       "      <th>3</th>\n",
       "      <td>United States</td>\n",
       "      <td>USA</td>\n",
       "      <td>1993</td>\n",
       "      <td>30.752355</td>\n",
       "      <td>0.252343</td>\n",
       "      <td>27.447251</td>\n",
       "      <td>3.541285</td>\n",
       "    </tr>\n",
       "    <tr>\n",
       "      <th>4</th>\n",
       "      <td>United States</td>\n",
       "      <td>USA</td>\n",
       "      <td>1994</td>\n",
       "      <td>30.474388</td>\n",
       "      <td>0.241280</td>\n",
       "      <td>27.122679</td>\n",
       "      <td>3.606160</td>\n",
       "    </tr>\n",
       "  </tbody>\n",
       "</table>\n",
       "</div>"
      ],
      "text/plain": [
       "          Entity Code  Year  Air pollution (total) (deaths per 100,000)  \\\n",
       "0  United States  USA  1990                                   31.195070   \n",
       "1  United States  USA  1991                                   30.856114   \n",
       "2  United States  USA  1992                                   30.279203   \n",
       "3  United States  USA  1993                                   30.752355   \n",
       "4  United States  USA  1994                                   30.474388   \n",
       "\n",
       "   Indoor air pollution (deaths per 100,000)  \\\n",
       "0                                   0.283396   \n",
       "1                                   0.271225   \n",
       "2                                   0.257007   \n",
       "3                                   0.252343   \n",
       "4                                   0.241280   \n",
       "\n",
       "   Outdoor particulate matter (deaths per 100,000)  \\\n",
       "0                                        28.084035   \n",
       "1                                        27.700241   \n",
       "2                                        27.106771   \n",
       "3                                        27.447251   \n",
       "4                                        27.122679   \n",
       "\n",
       "   Outdoor ozone pollution (deaths per 100,000)  \n",
       "0                                      3.281703  \n",
       "1                                      3.348164  \n",
       "2                                      3.383141  \n",
       "3                                      3.541285  \n",
       "4                                      3.606160  "
      ]
     },
     "execution_count": 2,
     "metadata": {},
     "output_type": "execute_result"
    }
   ],
   "source": [
    "# Set up in our csv to read\n",
    "deaths = \"./Resources/US-death-rates-from-air-pollution.csv\"\n",
    "deaths_df = pd.read_csv(deaths)\n",
    "deaths_df.head()"
   ]
  },
  {
   "cell_type": "code",
   "execution_count": 14,
   "metadata": {},
   "outputs": [
    {
     "data": {
      "text/html": [
       "<div>\n",
       "<style scoped>\n",
       "    .dataframe tbody tr th:only-of-type {\n",
       "        vertical-align: middle;\n",
       "    }\n",
       "\n",
       "    .dataframe tbody tr th {\n",
       "        vertical-align: top;\n",
       "    }\n",
       "\n",
       "    .dataframe thead th {\n",
       "        text-align: right;\n",
       "    }\n",
       "</style>\n",
       "<table border=\"1\" class=\"dataframe\">\n",
       "  <thead>\n",
       "    <tr style=\"text-align: right;\">\n",
       "      <th></th>\n",
       "      <th>Year</th>\n",
       "      <th>Air_Pollution_Deaths</th>\n",
       "    </tr>\n",
       "  </thead>\n",
       "  <tbody>\n",
       "    <tr>\n",
       "      <th>0</th>\n",
       "      <td>2000</td>\n",
       "      <td>29.107689</td>\n",
       "    </tr>\n",
       "    <tr>\n",
       "      <th>1</th>\n",
       "      <td>2001</td>\n",
       "      <td>28.931137</td>\n",
       "    </tr>\n",
       "    <tr>\n",
       "      <th>2</th>\n",
       "      <td>2002</td>\n",
       "      <td>28.651409</td>\n",
       "    </tr>\n",
       "    <tr>\n",
       "      <th>3</th>\n",
       "      <td>2003</td>\n",
       "      <td>28.126964</td>\n",
       "    </tr>\n",
       "    <tr>\n",
       "      <th>4</th>\n",
       "      <td>2004</td>\n",
       "      <td>26.965198</td>\n",
       "    </tr>\n",
       "    <tr>\n",
       "      <th>5</th>\n",
       "      <td>2005</td>\n",
       "      <td>26.634436</td>\n",
       "    </tr>\n",
       "    <tr>\n",
       "      <th>6</th>\n",
       "      <td>2006</td>\n",
       "      <td>25.933688</td>\n",
       "    </tr>\n",
       "    <tr>\n",
       "      <th>7</th>\n",
       "      <td>2007</td>\n",
       "      <td>25.117557</td>\n",
       "    </tr>\n",
       "    <tr>\n",
       "      <th>8</th>\n",
       "      <td>2008</td>\n",
       "      <td>24.654824</td>\n",
       "    </tr>\n",
       "    <tr>\n",
       "      <th>9</th>\n",
       "      <td>2009</td>\n",
       "      <td>23.931275</td>\n",
       "    </tr>\n",
       "  </tbody>\n",
       "</table>\n",
       "</div>"
      ],
      "text/plain": [
       "   Year  Air_Pollution_Deaths\n",
       "0  2000             29.107689\n",
       "1  2001             28.931137\n",
       "2  2002             28.651409\n",
       "3  2003             28.126964\n",
       "4  2004             26.965198\n",
       "5  2005             26.634436\n",
       "6  2006             25.933688\n",
       "7  2007             25.117557\n",
       "8  2008             24.654824\n",
       "9  2009             23.931275"
      ]
     },
     "execution_count": 14,
     "metadata": {},
     "output_type": "execute_result"
    }
   ],
   "source": [
    "# Drop the columns we don't need\n",
    "deaths_transformed = deaths_df[[\"Year\",\"Air pollution (total) (deaths per 100,000)\"]]\n",
    "# Find only the years 2000-2009\n",
    "deaths_transformed = deaths_transformed.loc[(deaths_transformed[\"Year\"]>=2000)&(deaths_transformed[\"Year\"]<=2009)].reset_index()\n",
    "# Rename column for readability\n",
    "deaths_transformed = deaths_transformed.rename(columns={\"Air pollution (total) (deaths per 100,000)\":\"Air_Pollution_Deaths\"})\n",
    "# Make our final table with new columns\n",
    "deaths_transformed = deaths_transformed[[\"Year\",\"Air_Pollution_Deaths\"]]\n",
    "deaths_transformed"
   ]
  },
  {
   "cell_type": "code",
   "execution_count": 15,
   "metadata": {},
   "outputs": [],
   "source": [
    "# Set up engine connection\n",
    "connection_string = \"group3:Butler@localhost:5432/pollution_db\"\n",
    "engine = create_engine(f'postgresql://{connection_string}')"
   ]
  },
  {
   "cell_type": "code",
   "execution_count": 5,
   "metadata": {},
   "outputs": [
    {
     "data": {
      "text/plain": [
       "['population', 'deaths']"
      ]
     },
     "execution_count": 5,
     "metadata": {},
     "output_type": "execute_result"
    }
   ],
   "source": [
    "# Check the connection\n",
    "engine.table_names()"
   ]
  },
  {
   "cell_type": "code",
   "execution_count": 12,
   "metadata": {},
   "outputs": [],
   "source": [
    "# Load the dataframe into our database\n",
    "deaths_transformed.to_sql(name=\"deaths\", con=engine, if_exists='append', index=True)"
   ]
  }
 ],
 "metadata": {
  "kernelspec": {
   "display_name": "Python [conda env:pythondata] *",
   "language": "python",
   "name": "conda-env-pythondata-py"
  },
  "language_info": {
   "codemirror_mode": {
    "name": "ipython",
    "version": 3
   },
   "file_extension": ".py",
   "mimetype": "text/x-python",
   "name": "python",
   "nbconvert_exporter": "python",
   "pygments_lexer": "ipython3",
   "version": "3.6.10"
  }
 },
 "nbformat": 4,
 "nbformat_minor": 4
}
